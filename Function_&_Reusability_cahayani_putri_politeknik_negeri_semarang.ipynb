{
  "nbformat": 4,
  "nbformat_minor": 0,
  "metadata": {
    "colab": {
      "provenance": [],
      "authorship_tag": "ABX9TyNP2CgYxDS6Gm8B8OgH0Qqc",
      "include_colab_link": true
    },
    "kernelspec": {
      "name": "python3",
      "display_name": "Python 3"
    },
    "language_info": {
      "name": "python"
    }
  },
  "cells": [
    {
      "cell_type": "markdown",
      "metadata": {
        "id": "view-in-github",
        "colab_type": "text"
      },
      "source": [
        "<a href=\"https://colab.research.google.com/github/cahayaniputri559-prog/TUGAS-1-DIBIMBING-SIC-7/blob/main/Function_%26_Reusability_cahayani_putri_politeknik_negeri_semarang.ipynb\" target=\"_parent\"><img src=\"https://colab.research.google.com/assets/colab-badge.svg\" alt=\"Open In Colab\"/></a>"
      ]
    },
    {
      "cell_type": "markdown",
      "source": [
        "DEFINING & CALLING FUNCTIONS"
      ],
      "metadata": {
        "id": "z2-k1KQ_RnDa"
      }
    },
    {
      "cell_type": "code",
      "execution_count": 1,
      "metadata": {
        "colab": {
          "base_uri": "https://localhost:8080/"
        },
        "id": "EtMbqvjyQiqt",
        "outputId": "58a9be52-49fd-438e-805b-82e540792b52"
      },
      "outputs": [
        {
          "output_type": "stream",
          "name": "stdout",
          "text": [
            "Halo, selamat datang di kelas Python!\n"
          ]
        }
      ],
      "source": [
        "# Definisi fungsi\n",
        "def greet():\n",
        "    print(\"Halo, selamat datang di kelas Python!\")\n",
        "\n",
        "# Pemanggilan fungsi\n",
        "greet()\n"
      ]
    },
    {
      "cell_type": "markdown",
      "source": [
        "PARAMETERS AND RETURN"
      ],
      "metadata": {
        "id": "_1S9_GbyRxEW"
      }
    },
    {
      "cell_type": "code",
      "source": [
        "# Fungsi dengan parameter\n",
        "def greet_user(name):\n",
        "    return f\"Halo {name}, selamat belajar!\"\n",
        "\n",
        "# Pemanggilan fungsi dengan argumen\n",
        "print(greet_user(\"Ra'if\"))"
      ],
      "metadata": {
        "colab": {
          "base_uri": "https://localhost:8080/"
        },
        "id": "Cx_YI-OFRz8M",
        "outputId": "8da8ad80-d949-4406-9f42-eca15ff4ff5c"
      },
      "execution_count": 2,
      "outputs": [
        {
          "output_type": "stream",
          "name": "stdout",
          "text": [
            "Halo Ra'if, selamat belajar!\n"
          ]
        }
      ]
    },
    {
      "cell_type": "markdown",
      "source": [
        "MULTIPLE PARAMETERS AND RETURN MULTIPLE VALUES"
      ],
      "metadata": {
        "id": "nlpdx38lR4Gz"
      }
    },
    {
      "cell_type": "code",
      "source": [
        "def operasi_matematika(a, b):\n",
        "    tambah = a + b\n",
        "    kali = a * b\n",
        "    return tambah, kali\n",
        "\n",
        "hasil_tambah, hasil_kali = operasi_matematika(5, 3)\n",
        "print(\"Hasil tambah:\", hasil_tambah)\n",
        "print(\"Hasil kali:\", hasil_kali)"
      ],
      "metadata": {
        "colab": {
          "base_uri": "https://localhost:8080/"
        },
        "id": "rBHzGJ8gR-NA",
        "outputId": "3372210c-2938-4ba9-8212-d41338fbfc4b"
      },
      "execution_count": 3,
      "outputs": [
        {
          "output_type": "stream",
          "name": "stdout",
          "text": [
            "Hasil tambah: 8\n",
            "Hasil kali: 15\n"
          ]
        }
      ]
    },
    {
      "cell_type": "markdown",
      "source": [
        "GLOBAL VS LOCAL SCOPE"
      ],
      "metadata": {
        "id": "AgDUQSD9SDob"
      }
    },
    {
      "cell_type": "code",
      "source": [
        "x = 10  # global\n",
        "\n",
        "def contoh_scope():\n",
        "    x = 5  # local\n",
        "    print(\"Nilai di dalam fungsi:\", x)\n",
        "\n",
        "contoh_scope()\n",
        "print(\"Nilai di luar fungsi:\", x)"
      ],
      "metadata": {
        "colab": {
          "base_uri": "https://localhost:8080/"
        },
        "id": "-gK5y3sGSIHn",
        "outputId": "93340845-dfbe-4a83-dc84-8ebdbab7add0"
      },
      "execution_count": 4,
      "outputs": [
        {
          "output_type": "stream",
          "name": "stdout",
          "text": [
            "Nilai di dalam fungsi: 5\n",
            "Nilai di luar fungsi: 10\n"
          ]
        }
      ]
    },
    {
      "cell_type": "markdown",
      "source": [
        "MENGUBAH VARIABEL GLOBAL DI DALAM FUNGSI"
      ],
      "metadata": {
        "id": "lcsX4Rw2SK9O"
      }
    },
    {
      "cell_type": "code",
      "source": [
        "y = 10\n",
        "\n",
        "def ubah_global():\n",
        "    global y\n",
        "    y = 20\n",
        "\n",
        "ubah_global()\n",
        "print(\"Nilai y setelah diubah:\", y)"
      ],
      "metadata": {
        "id": "LrpYXDHkSN42"
      },
      "execution_count": null,
      "outputs": []
    },
    {
      "cell_type": "markdown",
      "source": [
        "MODULAR CODE PRINCIPLES"
      ],
      "metadata": {
        "id": "7FA27rHUSSYT"
      }
    },
    {
      "cell_type": "code",
      "source": [
        "from utils import (\n",
        "    validate_number,\n",
        "    tambah, kurang, kali, bagi, modulus, pangkat, rata_rata,\n",
        "    akar_kuadrat, nilai_mutlak,\n",
        "    nilai_maksimum, nilai_minimum\n",
        ")\n",
        "\n",
        "print(\"=== PROGRAM KALKULATOR LENGKAP ===\")\n",
        "\n",
        "while True:\n",
        "    # Input dua angka\n",
        "    num1 = validate_number(\"Masukkan angka pertama: \")\n",
        "    num2 = validate_number(\"Masukkan angka kedua: \")\n",
        "\n",
        "    # Operasi matematika dasar\n",
        "    print(f\"{num1} + {num2} = {tambah(num1, num2)}\")\n",
        "    print(f\"{num1} - {num2} = {kurang(num1, num2)}\")\n",
        "    print(f\"{num1} x {num2} = {kali(num1, num2)}\")\n",
        "    print(f\"{num1} ÷ {num2} = {bagi(num1, num2)}\")\n",
        "    print(f\"{num1} % {num2} = {modulus(num1, num2)}\")\n",
        "    print(f\"{num1} ^ {num2} = {pangkat(num1, num2)}\")\n",
        "\n",
        "    # Operasi matematika tambahan\n",
        "    print(f\"√{num1} = {akar_kuadrat(num1)}\")\n",
        "    print(f\"√{num2} = {akar_kuadrat(num2)}\")\n",
        "    print(f\"|{num1}| = {nilai_mutlak(num1)}\")\n",
        "    print(f\"|{num2}| = {nilai_mutlak(num2)}\"\n",
        "         )\n",
        "    print(f\"Nilai maksimum = {nilai_maksimum(num1, num2)}\")\n",
        "    print(f\"Nilai minimum = {nilai_minimum(num1, num2)}\")\n",
        "\n",
        "    # Rata-rata contoh\n",
        "    angka_list = [num1, num2]\n",
        "    print(f\"Rata-rata dari {angka_list} = {rata_rata(*angka_list)}\")\n",
        "\n",
        "    # Tanya apakah ingin mengulang\n",
        "    ulang = input(\"Apakah ingin menghitung lagi? (ya/tidak): \").lower().strip()\n",
        "    if ulang != \"ya\":\n",
        "        print(\"Program selesai. Terima kasih!\")\n",
        "        break"
      ],
      "metadata": {
        "colab": {
          "base_uri": "https://localhost:8080/",
          "height": 383
        },
        "id": "aTQI4v4TSQgr",
        "outputId": "8c7d5e5f-9c35-4bac-b888-c6c5d8e4b039"
      },
      "execution_count": 6,
      "outputs": [
        {
          "output_type": "error",
          "ename": "ModuleNotFoundError",
          "evalue": "No module named 'utils'",
          "traceback": [
            "\u001b[0;31m---------------------------------------------------------------------------\u001b[0m",
            "\u001b[0;31mModuleNotFoundError\u001b[0m                       Traceback (most recent call last)",
            "\u001b[0;32m/tmp/ipython-input-594147917.py\u001b[0m in \u001b[0;36m<cell line: 0>\u001b[0;34m()\u001b[0m\n\u001b[0;32m----> 1\u001b[0;31m from utils import (\n\u001b[0m\u001b[1;32m      2\u001b[0m     \u001b[0mvalidate_number\u001b[0m\u001b[0;34m,\u001b[0m\u001b[0;34m\u001b[0m\u001b[0;34m\u001b[0m\u001b[0m\n\u001b[1;32m      3\u001b[0m     \u001b[0mtambah\u001b[0m\u001b[0;34m,\u001b[0m \u001b[0mkurang\u001b[0m\u001b[0;34m,\u001b[0m \u001b[0mkali\u001b[0m\u001b[0;34m,\u001b[0m \u001b[0mbagi\u001b[0m\u001b[0;34m,\u001b[0m \u001b[0mmodulus\u001b[0m\u001b[0;34m,\u001b[0m \u001b[0mpangkat\u001b[0m\u001b[0;34m,\u001b[0m \u001b[0mrata_rata\u001b[0m\u001b[0;34m,\u001b[0m\u001b[0;34m\u001b[0m\u001b[0;34m\u001b[0m\u001b[0m\n\u001b[1;32m      4\u001b[0m     \u001b[0makar_kuadrat\u001b[0m\u001b[0;34m,\u001b[0m \u001b[0mnilai_mutlak\u001b[0m\u001b[0;34m,\u001b[0m\u001b[0;34m\u001b[0m\u001b[0;34m\u001b[0m\u001b[0m\n\u001b[1;32m      5\u001b[0m     \u001b[0mnilai_maksimum\u001b[0m\u001b[0;34m,\u001b[0m \u001b[0mnilai_minimum\u001b[0m\u001b[0;34m\u001b[0m\u001b[0;34m\u001b[0m\u001b[0m\n",
            "\u001b[0;31mModuleNotFoundError\u001b[0m: No module named 'utils'",
            "",
            "\u001b[0;31m---------------------------------------------------------------------------\u001b[0;32m\nNOTE: If your import is failing due to a missing package, you can\nmanually install dependencies using either !pip or !apt.\n\nTo view examples of installing some common dependencies, click the\n\"Open Examples\" button below.\n\u001b[0;31m---------------------------------------------------------------------------\u001b[0m\n"
          ],
          "errorDetails": {
            "actions": [
              {
                "action": "open_url",
                "actionText": "Open Examples",
                "url": "/notebooks/snippets/importing_libraries.ipynb"
              }
            ]
          }
        }
      ]
    }
  ]
}