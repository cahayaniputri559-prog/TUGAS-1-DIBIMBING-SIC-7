{
  "nbformat": 4,
  "nbformat_minor": 0,
  "metadata": {
    "colab": {
      "provenance": [],
      "authorship_tag": "ABX9TyOkckD5WdIUc5m49pWI/WdO",
      "include_colab_link": true
    },
    "kernelspec": {
      "name": "python3",
      "display_name": "Python 3"
    },
    "language_info": {
      "name": "python"
    }
  },
  "cells": [
    {
      "cell_type": "markdown",
      "metadata": {
        "id": "view-in-github",
        "colab_type": "text"
      },
      "source": [
        "<a href=\"https://colab.research.google.com/github/cahayaniputri559-prog/TUGAS-1-DIBIMBING-SIC-7/blob/main/list_and_dictionorys.ipynb\" target=\"_parent\"><img src=\"https://colab.research.google.com/assets/colab-badge.svg\" alt=\"Open In Colab\"/></a>"
      ]
    },
    {
      "cell_type": "code",
      "execution_count": 1,
      "metadata": {
        "colab": {
          "base_uri": "https://localhost:8080/"
        },
        "id": "yA4ZFMJnSQ05",
        "outputId": "78e469dd-96e8-44fa-c993-829d6f9f6960"
      },
      "outputs": [
        {
          "output_type": "stream",
          "name": "stdout",
          "text": [
            "List siswa awal: ['Ganang', 'Adiyatma', 'Cahyani', 'Nazida', 'Eka']\n",
            "Dictionary nilai siswa awal: {'Ganang': 85, 'Adiyatma': 90, 'Cahyani': 78, 'Nazida': 88, 'Eka': 92}\n",
            "List siswa setelah tambah & hapus: ['Ganang', 'Adiyatma', 'Nazida', 'Eka', 'Farhan']\n",
            "Siswa pertama: Ganang\n",
            "Siswa terakhir: Farhan\n",
            "3 siswa terakhir: ['Nazida', 'Eka', 'Farhan']\n",
            "Index dan nama siswa:\n",
            "0 : Ganang\n",
            "1 : Adiyatma\n",
            "2 : Nazida\n",
            "3 : Eka\n",
            "4 : Farhan\n",
            "Dictionary setelah update & hapus: {'Ganang': 95, 'Adiyatma': 90, 'Nazida': 88, 'Eka': 92}\n",
            "Dictionary setelah ganti nama: {'Ganang': 95, 'Nazida': 88, 'Eka': 92, 'Bagas': 90}\n"
          ]
        }
      ],
      "source": [
        "siswa = [\"Ganang\", \"Adiyatma\", \"Cahyani\", \"Nazida\", \"Eka\"]\n",
        "print(\"List siswa awal:\", siswa)\n",
        "\n",
        "nilai_siswa = {\n",
        "    \"Ganang\": 85,\n",
        "    \"Adiyatma\": 90,\n",
        "    \"Cahyani\": 78,\n",
        "    \"Nazida\": 88,\n",
        "    \"Eka\": 92\n",
        "}\n",
        "print(\"Dictionary nilai siswa awal:\", nilai_siswa)\n",
        "\n",
        "\n",
        "siswa.append(\"Farhan\")\n",
        "siswa.remove(\"Cahyani\")\n",
        "print(\"List siswa setelah tambah & hapus:\", siswa)\n",
        "\n",
        "\n",
        "print(\"Siswa pertama:\", siswa[0])\n",
        "print(\"Siswa terakhir:\", siswa[-1])\n",
        "print(\"3 siswa terakhir:\", siswa[-3:])\n",
        "\n",
        "print(\"Index dan nama siswa:\")\n",
        "for idx, nama in enumerate(siswa):\n",
        "    print(idx, \":\", nama)\n",
        "\n",
        "\n",
        "nilai_siswa[\"Ganang\"] = 95\n",
        "nilai_siswa.pop(\"Cahyani\", None)\n",
        "print(\"Dictionary setelah update & hapus:\", nilai_siswa)\n",
        "\n",
        "\n",
        "nilai_siswa[\"Bagas\"] = nilai_siswa.pop(\"Adiyatma\")\n",
        "print(\"Dictionary setelah ganti nama:\", nilai_siswa)"
      ]
    }
  ]
}