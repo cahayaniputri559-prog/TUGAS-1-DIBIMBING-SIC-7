{
  "nbformat": 4,
  "nbformat_minor": 0,
  "metadata": {
    "colab": {
      "provenance": [],
      "authorship_tag": "ABX9TyPd8Q5VUbk+uLiqpP5pME17",
      "include_colab_link": true
    },
    "kernelspec": {
      "name": "python3",
      "display_name": "Python 3"
    },
    "language_info": {
      "name": "python"
    }
  },
  "cells": [
    {
      "cell_type": "markdown",
      "metadata": {
        "id": "view-in-github",
        "colab_type": "text"
      },
      "source": [
        "<a href=\"https://colab.research.google.com/github/cahayaniputri559-prog/TUGAS-1-DIBIMBING-SIC-7/blob/main/TUGAS_1.ipynb\" target=\"_parent\"><img src=\"https://colab.research.google.com/assets/colab-badge.svg\" alt=\"Open In Colab\"/></a>"
      ]
    },
    {
      "cell_type": "markdown",
      "source": [],
      "metadata": {
        "id": "LpXAQr9eCEVy"
      }
    },
    {
      "cell_type": "markdown",
      "source": [
        "TUGAS 1"
      ],
      "metadata": {
        "id": "by955t-Z0yZZ"
      }
    },
    {
      "cell_type": "code",
      "execution_count": null,
      "metadata": {
        "colab": {
          "base_uri": "https://localhost:8080/"
        },
        "id": "JxbjoKe8BN-6",
        "outputId": "e7455204-099e-406c-aa89-3d9b3565cbf7"
      },
      "outputs": [
        {
          "output_type": "stream",
          "name": "stdout",
          "text": [
            "Nama produk 1: Kopi Pagi\n",
            "\n",
            "Harga produk 1: 18000.5\n",
            "\n",
            "Nama produk 2: Roti Cokelat\n",
            "\n",
            "Harga produk 2: 10000\n",
            "\n",
            "Status ketersediaan roti: True\n"
          ]
        }
      ],
      "source": [
        "nama_produk_1 = \"Kopi Pagi\"\n",
        "harga_produk_1 = 18000.5\n",
        "nama_produk_2 = \"Roti Cokelat\"\n",
        "harga_produk_2 = 10000\n",
        "status_ketersediaan_roti = True\n",
        "\n",
        "print(f\"Nama produk 1: {nama_produk_1}\\n\")\n",
        "print(f\"Harga produk 1: {harga_produk_1}\\n\")\n",
        "print(f\"Nama produk 2: {nama_produk_2}\\n\")\n",
        "print(f\"Harga produk 2: {harga_produk_2}\\n\")\n",
        "print(f\"Status ketersediaan roti: {status_ketersediaan_roti}\")"
      ]
    },
    {
      "cell_type": "markdown",
      "source": [
        "TUGAS 2"
      ],
      "metadata": {
        "id": "90JeRbavCHZ1"
      }
    },
    {
      "cell_type": "code",
      "source": [
        "jumlah_kopi_str = input(\"Masukkan jumlah pesanan kopi: \")\n",
        "print()\n",
        "jumlah_roti_str = input(\"Masukkan jumlah pesanan roti: \")\n",
        "print()\n",
        "\n",
        "print(f\"Tipe data awal jumlah kopi: {type(jumlah_kopi_str)}\\n\")\n",
        "print(f\"Tipe data awal jumlah roti: {type(jumlah_roti_str)}\\n\")\n",
        "\n",
        "jumlah_kopi_int = int(jumlah_kopi_str)\n",
        "jumlah_roti_int = int(jumlah_roti_str)\n",
        "\n",
        "print(f\"Tipe data setelah konversi (kopi): {type(jumlah_kopi_int)}\\n\")\n",
        "print(f\"Tipe data setelah konversi (roti): {type(jumlah_roti_int)}\")"
      ],
      "metadata": {
        "colab": {
          "base_uri": "https://localhost:8080/"
        },
        "id": "dZltrvTkBZNw",
        "outputId": "bcecfd61-235d-4521-8905-b295966559f9"
      },
      "execution_count": null,
      "outputs": [
        {
          "output_type": "stream",
          "name": "stdout",
          "text": [
            "Masukkan jumlah pesanan kopi: 2\n",
            "\n",
            "Masukkan jumlah pesanan roti: 4\n",
            "\n",
            "Tipe data awal jumlah kopi: <class 'str'>\n",
            "\n",
            "Tipe data awal jumlah roti: <class 'str'>\n",
            "\n",
            "Tipe data setelah konversi (kopi): <class 'int'>\n",
            "\n",
            "Tipe data setelah konversi (roti): <class 'int'>\n"
          ]
        }
      ]
    },
    {
      "cell_type": "markdown",
      "source": [
        "TUGAS 3"
      ],
      "metadata": {
        "id": "DPYSc1nRBqdm"
      }
    },
    {
      "cell_type": "code",
      "source": [
        "harga_kopi = 18000.5\n",
        "harga_roti = 10000\n",
        "\n",
        "total_harga_kopi = harga_kopi * jumlah_kopi_int\n",
        "total_harga_roti = harga_roti * jumlah_roti_int\n",
        "\n",
        "total_belanja = total_harga_kopi + total_harga_roti\n",
        "\n",
        "uang_bayar = 50000\n",
        "kembalian = uang_bayar - total_belanja\n",
        "\n",
        "print(f\"Total harga kopi: {total_harga_kopi}\\n\")\n",
        "print(f\"Total harga roti: {total_harga_roti}\\n\")\n",
        "print(f\"Total belanja keseluruhan: {total_belanja}\\n\")\n",
        "print(f\"Uang yang dibayarkan: {uang_bayar}\\n\")\n",
        "print(f\"Kembalian: {kembalian}\")"
      ],
      "metadata": {
        "colab": {
          "base_uri": "https://localhost:8080/"
        },
        "id": "NG7_eGBPBsFf",
        "outputId": "f73ab176-3996-4713-87a2-cd97f264f570"
      },
      "execution_count": null,
      "outputs": [
        {
          "output_type": "stream",
          "name": "stdout",
          "text": [
            "Total harga kopi: 36001.0\n",
            "\n",
            "Total harga roti: 40000\n",
            "\n",
            "Total belanja keseluruhan: 76001.0\n",
            "\n",
            "Uang yang dibayarkan: 50000\n",
            "\n",
            "Kembalian: -26001.0\n"
          ]
        }
      ]
    },
    {
      "cell_type": "markdown",
      "source": [
        "TUGAS 4"
      ],
      "metadata": {
        "id": "lL5eWa0LB3la"
      }
    },
    {
      "cell_type": "code",
      "source": [
        "try:\n",
        "    nama_produk_1\n",
        "except NameError:\n",
        "    nama_produk_1 = \"Kopi Pagi\"\n",
        "\n",
        "try:\n",
        "    total_harga_kopi\n",
        "except NameError:\n",
        "    harga_kopi = 18000.5\n",
        "    jumlah_kopi_int = 2\n",
        "    total_harga_kopi = harga_kopi * jumlah_kopi_int\n",
        "\n",
        "nama_pelanggan = input(\"Masukkan nama pelanggan: \")\n",
        "\n",
        "pesan_terima_kasih = \"Terima kasih, \" + nama_pelanggan + \" sudah berbelanja di Coffee Shop Bahagia!\"\n",
        "\n",
        "garis = \"*\" * 25\n",
        "print(garis)\n",
        "print()\n",
        "print(pesan_terima_kasih)\n",
        "print()\n",
        "print(garis)\n",
        "print()\n",
        "\n",
        "print(f\"Total harga {nama_produk_1} adalah Rp{total_harga_kopi}\")"
      ],
      "metadata": {
        "colab": {
          "base_uri": "https://localhost:8080/"
        },
        "id": "I7SqkkBzB9dK",
        "outputId": "0a17115a-dad7-48cf-a131-9e621f0074db"
      },
      "execution_count": null,
      "outputs": [
        {
          "output_type": "stream",
          "name": "stdout",
          "text": [
            "Masukkan nama pelanggan: CAHYA\n",
            "*************************\n",
            "\n",
            "Terima kasih, CAHYA sudah berbelanja di Coffee Shop Bahagia!\n",
            "\n",
            "*************************\n",
            "\n",
            "Total harga Kopi Pagi adalah Rp36001.0\n"
          ]
        }
      ]
    }
  ]
}